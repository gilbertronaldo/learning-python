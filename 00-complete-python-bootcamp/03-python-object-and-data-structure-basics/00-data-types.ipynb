{
 "cells": [
  {
   "cell_type": "markdown",
   "metadata": {
    "collapsed": true,
    "pycharm": {
     "name": "#%% md\n"
    }
   },
   "source": [
    "# Python Data Types\n",
    "\n",
    "| Name | Type | Description | Example |\n",
    "| --- | --- | --- | --- |\n",
    "| Integers | int | Whole number | 1 10 13 2020 |\n",
    "| Floating Points | float | Numbers with a decimal point | 1.1 1.0 10.3 13.9999 |\n",
    "| Strings | str | Ordered sequence of characters | \"Hello\" 'world' \"2000\" |\n",
    "| Boolean | bool | Logical Value indicating true or false | True False |\n",
    "| Lists | list | Ordered sequence of objects | [10, \"Hello\", 200.3] |\n",
    "| Dictionaries | dict | Unordered Key:Value pairs | {\"key\": \"value\", \"foo\": \"Bar\"} |\n",
    "| Tuples | tup | Ordered immutable sequence of objects | (10, \"Hello\", 200.3) |\n",
    "| Sets | set | Unordered collection of unique objects | {\"a\", \"b\"}"
   ]
  }
 ],
 "metadata": {
  "kernelspec": {
   "name": "python3",
   "language": "python",
   "display_name": "Python 3"
  },
  "language_info": {
   "codemirror_mode": {
    "name": "ipython",
    "version": 2
   },
   "file_extension": ".py",
   "mimetype": "text/x-python",
   "name": "python",
   "nbconvert_exporter": "python",
   "pygments_lexer": "ipython2",
   "version": "2.7.6"
  }
 },
 "nbformat": 4,
 "nbformat_minor": 0
}